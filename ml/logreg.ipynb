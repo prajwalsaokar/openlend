{
 "cells": [
  {
   "cell_type": "code",
   "execution_count": 236,
   "metadata": {},
   "outputs": [],
   "source": [
    "import sklearn\n",
    "import matplotlib.pyplot as plt\n",
    "import numpy as np\n",
    "from sklearn import *\n",
    "import pandas as pd\n",
    "from sklearn.impute import SimpleImputer\n",
    "from sklearn.ensemble import RandomForestClassifier\n",
    "from sklearn.metrics import accuracy_score, confusion_matrix, precision_score, recall_score, ConfusionMatrixDisplay, f1_score\n",
    "from sklearn.model_selection import RandomizedSearchCV, train_test_split\n",
    "from scipy.stats import randint\n",
    "import pickle\n",
    "import joblib"
   ]
  },
  {
   "cell_type": "markdown",
   "metadata": {},
   "source": [
    "acc_df link: https://www.kaggle.com/code/wordsforthewise/eda-with-python/notebook"
   ]
  },
  {
   "cell_type": "code",
   "execution_count": 237,
   "metadata": {},
   "outputs": [],
   "source": [
    "cols = ['grade','loan_amnt','int_rate','home_ownership','annual_inc','purpose', 'dti', 'tot_cur_bal']\n",
    "acc_df = pd.read_csv(\"trunc_accepted.csv\", usecols=cols)"
   ]
  },
  {
   "cell_type": "code",
   "execution_count": 238,
   "metadata": {},
   "outputs": [
    {
     "name": "stdout",
     "output_type": "stream",
     "text": [
      "grade\n",
      "loan_amnt\n",
      "int_rate\n",
      "home_ownership\n",
      "annual_inc\n",
      "purpose\n",
      "dti\n",
      "tot_cur_bal\n"
     ]
    },
    {
     "data": {
      "text/html": [
       "<div>\n",
       "<style scoped>\n",
       "    .dataframe tbody tr th:only-of-type {\n",
       "        vertical-align: middle;\n",
       "    }\n",
       "\n",
       "    .dataframe tbody tr th {\n",
       "        vertical-align: top;\n",
       "    }\n",
       "\n",
       "    .dataframe thead th {\n",
       "        text-align: right;\n",
       "    }\n",
       "</style>\n",
       "<table border=\"1\" class=\"dataframe\">\n",
       "  <thead>\n",
       "    <tr style=\"text-align: right;\">\n",
       "      <th></th>\n",
       "      <th>loan_amnt</th>\n",
       "      <th>int_rate</th>\n",
       "      <th>grade</th>\n",
       "      <th>home_ownership</th>\n",
       "      <th>annual_inc</th>\n",
       "      <th>purpose</th>\n",
       "      <th>dti</th>\n",
       "      <th>tot_cur_bal</th>\n",
       "    </tr>\n",
       "  </thead>\n",
       "  <tbody>\n",
       "    <tr>\n",
       "      <th>0</th>\n",
       "      <td>3600.0</td>\n",
       "      <td>13.99</td>\n",
       "      <td>C</td>\n",
       "      <td>MORTGAGE</td>\n",
       "      <td>55000.0</td>\n",
       "      <td>debt_consolidation</td>\n",
       "      <td>5.91</td>\n",
       "      <td>144904.0</td>\n",
       "    </tr>\n",
       "    <tr>\n",
       "      <th>1</th>\n",
       "      <td>24700.0</td>\n",
       "      <td>11.99</td>\n",
       "      <td>C</td>\n",
       "      <td>MORTGAGE</td>\n",
       "      <td>65000.0</td>\n",
       "      <td>small_business</td>\n",
       "      <td>16.06</td>\n",
       "      <td>204396.0</td>\n",
       "    </tr>\n",
       "    <tr>\n",
       "      <th>2</th>\n",
       "      <td>20000.0</td>\n",
       "      <td>10.78</td>\n",
       "      <td>B</td>\n",
       "      <td>MORTGAGE</td>\n",
       "      <td>63000.0</td>\n",
       "      <td>home_improvement</td>\n",
       "      <td>10.78</td>\n",
       "      <td>189699.0</td>\n",
       "    </tr>\n",
       "    <tr>\n",
       "      <th>3</th>\n",
       "      <td>35000.0</td>\n",
       "      <td>14.85</td>\n",
       "      <td>C</td>\n",
       "      <td>MORTGAGE</td>\n",
       "      <td>110000.0</td>\n",
       "      <td>debt_consolidation</td>\n",
       "      <td>17.06</td>\n",
       "      <td>301500.0</td>\n",
       "    </tr>\n",
       "    <tr>\n",
       "      <th>4</th>\n",
       "      <td>10400.0</td>\n",
       "      <td>22.45</td>\n",
       "      <td>F</td>\n",
       "      <td>MORTGAGE</td>\n",
       "      <td>104433.0</td>\n",
       "      <td>major_purchase</td>\n",
       "      <td>25.37</td>\n",
       "      <td>331730.0</td>\n",
       "    </tr>\n",
       "  </tbody>\n",
       "</table>\n",
       "</div>"
      ],
      "text/plain": [
       "   loan_amnt  int_rate grade home_ownership  annual_inc             purpose  \\\n",
       "0     3600.0     13.99     C       MORTGAGE     55000.0  debt_consolidation   \n",
       "1    24700.0     11.99     C       MORTGAGE     65000.0      small_business   \n",
       "2    20000.0     10.78     B       MORTGAGE     63000.0    home_improvement   \n",
       "3    35000.0     14.85     C       MORTGAGE    110000.0  debt_consolidation   \n",
       "4    10400.0     22.45     F       MORTGAGE    104433.0      major_purchase   \n",
       "\n",
       "     dti  tot_cur_bal  \n",
       "0   5.91     144904.0  \n",
       "1  16.06     204396.0  \n",
       "2  10.78     189699.0  \n",
       "3  17.06     301500.0  \n",
       "4  25.37     331730.0  "
      ]
     },
     "execution_count": 238,
     "metadata": {},
     "output_type": "execute_result"
    }
   ],
   "source": [
    "len(acc_df)\n",
    "# acc_df = acc_df[]\n",
    "for i in cols: \n",
    "    #acc_df = acc_df[acc_df[i] != np.nan]\n",
    "    #print(f\"unique values of \\'{i}\\' are {acc_df[i].unique()}\")\n",
    "    print(i)\n",
    "\n",
    "acc_df.head()"
   ]
  },
  {
   "cell_type": "markdown",
   "metadata": {},
   "source": [
    "### Label-encoding DataFrame"
   ]
  },
  {
   "cell_type": "code",
   "execution_count": 239,
   "metadata": {},
   "outputs": [
    {
     "name": "stdout",
     "output_type": "stream",
     "text": [
      "Possible values of 'home_ownership' are [ 0.  1.  2.  3. nan  4.  5.]\n",
      "Possible values of purpose are [ 0.  1.  2.  3.  4.  5.  6.  7.  8.  9. 10. 11. 12. 13. nan]\n",
      "Possible values of 'Grade' are: [ 2.  1.  5.  0.  4.  3. nan]\n"
     ]
    }
   ],
   "source": [
    "acc_df['grade'] = acc_df['grade'].map({'A': 0, 'B' : 1, 'C' : 2, 'D' : 3, 'E' : 4, 'F' : 5, 'G' : 5})\n",
    "\n",
    "purpose_map = {'debt_consolidation' : 0, 'small_business' : 1, 'home_improvement' : 2, 'major_purchase' : 3,\n",
    " 'credit_card' : 4, 'other' : 5, 'house' : 6, 'vacation' : 7, 'car' : 8, 'medical' : 9, 'moving' : 10,\n",
    " 'renewable_energy' : 11, 'wedding' : 12, 'educational' : 13}\n",
    "acc_df['purpose'] = acc_df['purpose'].map(purpose_map)\n",
    "\n",
    "home_ownership_map = {'MORTGAGE' : 0, 'RENT' : 1, 'OWN' : 2, 'ANY' : 3, 'NONE' : 4, 'OTHER' : 5}\n",
    "acc_df['home_ownership'] = acc_df['home_ownership'].map(home_ownership_map)\n",
    "\n",
    "print(f\"Possible values of \\'home_ownership\\' are {acc_df['home_ownership'].unique()}\")\n",
    "print(f\"Possible values of purpose are {acc_df['purpose'].unique()}\")\n",
    "print(f\"Possible values of \\'Grade\\' are: {acc_df['grade'].unique()}\")"
   ]
  },
  {
   "cell_type": "markdown",
   "metadata": {},
   "source": [
    "# IMPUTING NaNs in DataFrame"
   ]
  },
  {
   "cell_type": "code",
   "execution_count": 240,
   "metadata": {},
   "outputs": [
    {
     "name": "stdout",
     "output_type": "stream",
     "text": [
      "Possible values of 'home_ownership' are [ 0.  1.  2.  3. nan  4.  5.]\n",
      "Possible values of purpose are [ 0.  1.  2.  3. nan  4.  5.]\n",
      "Possible values of 'Grade' are: [ 2.  1.  5.  0.  4.  3. nan]\n",
      "loan_amnt         float64\n",
      "int_rate          float64\n",
      "grade             float64\n",
      "home_ownership    float64\n",
      "annual_inc        float64\n",
      "purpose           float64\n",
      "dti               float64\n",
      "tot_cur_bal       float64\n",
      "dtype: object\n",
      "Index(['loan_amnt', 'int_rate', 'grade', 'home_ownership', 'annual_inc',\n",
      "       'purpose', 'dti', 'tot_cur_bal'],\n",
      "      dtype='object')\n",
      "loan_amnt         float64\n",
      "int_rate          float64\n",
      "grade             float64\n",
      "home_ownership    float64\n",
      "annual_inc        float64\n",
      "purpose           float64\n",
      "dti               float64\n",
      "tot_cur_bal       float64\n",
      "dtype: object\n",
      "Possible values of 'home_ownership' are [0. 1. 2. 3. 4. 5.]\n",
      "Possible values of purpose are [ 0.  1.  2.  3.  4.  5.  6.  7.  8.  9. 10. 11. 12. 13.]\n",
      "Possible values of 'Grade' are: [2. 1. 5. 0. 4. 3.]\n"
     ]
    }
   ],
   "source": [
    "print(f\"Possible values of \\'home_ownership\\' are {acc_df['home_ownership'].unique()}\")\n",
    "print(f\"Possible values of purpose are {acc_df['home_ownership'].unique()}\")\n",
    "print(f\"Possible values of \\'Grade\\' are: {acc_df['grade'].unique()}\")\n",
    "print(acc_df.dtypes)\n",
    "print(f\"{acc_df.columns}\")\n",
    "curr_cols = acc_df.columns\n",
    "imp = SimpleImputer(missing_values=np.nan, strategy='most_frequent')\n",
    "acc_df = pd.DataFrame(imp.fit_transform(acc_df), columns = curr_cols)\n",
    "print(acc_df.dtypes)\n",
    "print(f\"Possible values of \\'home_ownership\\' are {acc_df['home_ownership'].unique()}\")\n",
    "print(f\"Possible values of purpose are {acc_df['purpose'].unique()}\")\n",
    "print(f\"Possible values of \\'Grade\\' are: {acc_df['grade'].unique()}\")"
   ]
  },
  {
   "cell_type": "markdown",
   "metadata": {},
   "source": [
    "## Pre-processing data for random forests"
   ]
  },
  {
   "cell_type": "code",
   "execution_count": 241,
   "metadata": {},
   "outputs": [
    {
     "name": "stdout",
     "output_type": "stream",
     "text": [
      "Index(['loan_amnt', 'int_rate', 'home_ownership', 'annual_inc', 'purpose',\n",
      "       'dti', 'tot_cur_bal'],\n",
      "      dtype='object')\n",
      "1.6584961921103234\n"
     ]
    }
   ],
   "source": [
    "X = acc_df.drop('grade', axis=1)\n",
    "y = acc_df['grade']\n",
    "\n",
    "print(X.columns)\n",
    "print(y.mean())\n",
    "X_train, X_test, y_train, y_test= train_test_split(X, y, test_size = 0.2)"
   ]
  },
  {
   "cell_type": "markdown",
   "metadata": {},
   "source": [
    "### Fitting and Evaluating the Model"
   ]
  },
  {
   "cell_type": "code",
   "execution_count": 242,
   "metadata": {},
   "outputs": [
    {
     "data": {
      "text/html": [
       "<style>#sk-container-id-2 {color: black;}#sk-container-id-2 pre{padding: 0;}#sk-container-id-2 div.sk-toggleable {background-color: white;}#sk-container-id-2 label.sk-toggleable__label {cursor: pointer;display: block;width: 100%;margin-bottom: 0;padding: 0.3em;box-sizing: border-box;text-align: center;}#sk-container-id-2 label.sk-toggleable__label-arrow:before {content: \"▸\";float: left;margin-right: 0.25em;color: #696969;}#sk-container-id-2 label.sk-toggleable__label-arrow:hover:before {color: black;}#sk-container-id-2 div.sk-estimator:hover label.sk-toggleable__label-arrow:before {color: black;}#sk-container-id-2 div.sk-toggleable__content {max-height: 0;max-width: 0;overflow: hidden;text-align: left;background-color: #f0f8ff;}#sk-container-id-2 div.sk-toggleable__content pre {margin: 0.2em;color: black;border-radius: 0.25em;background-color: #f0f8ff;}#sk-container-id-2 input.sk-toggleable__control:checked~div.sk-toggleable__content {max-height: 200px;max-width: 100%;overflow: auto;}#sk-container-id-2 input.sk-toggleable__control:checked~label.sk-toggleable__label-arrow:before {content: \"▾\";}#sk-container-id-2 div.sk-estimator input.sk-toggleable__control:checked~label.sk-toggleable__label {background-color: #d4ebff;}#sk-container-id-2 div.sk-label input.sk-toggleable__control:checked~label.sk-toggleable__label {background-color: #d4ebff;}#sk-container-id-2 input.sk-hidden--visually {border: 0;clip: rect(1px 1px 1px 1px);clip: rect(1px, 1px, 1px, 1px);height: 1px;margin: -1px;overflow: hidden;padding: 0;position: absolute;width: 1px;}#sk-container-id-2 div.sk-estimator {font-family: monospace;background-color: #f0f8ff;border: 1px dotted black;border-radius: 0.25em;box-sizing: border-box;margin-bottom: 0.5em;}#sk-container-id-2 div.sk-estimator:hover {background-color: #d4ebff;}#sk-container-id-2 div.sk-parallel-item::after {content: \"\";width: 100%;border-bottom: 1px solid gray;flex-grow: 1;}#sk-container-id-2 div.sk-label:hover label.sk-toggleable__label {background-color: #d4ebff;}#sk-container-id-2 div.sk-serial::before {content: \"\";position: absolute;border-left: 1px solid gray;box-sizing: border-box;top: 0;bottom: 0;left: 50%;z-index: 0;}#sk-container-id-2 div.sk-serial {display: flex;flex-direction: column;align-items: center;background-color: white;padding-right: 0.2em;padding-left: 0.2em;position: relative;}#sk-container-id-2 div.sk-item {position: relative;z-index: 1;}#sk-container-id-2 div.sk-parallel {display: flex;align-items: stretch;justify-content: center;background-color: white;position: relative;}#sk-container-id-2 div.sk-item::before, #sk-container-id-2 div.sk-parallel-item::before {content: \"\";position: absolute;border-left: 1px solid gray;box-sizing: border-box;top: 0;bottom: 0;left: 50%;z-index: -1;}#sk-container-id-2 div.sk-parallel-item {display: flex;flex-direction: column;z-index: 1;position: relative;background-color: white;}#sk-container-id-2 div.sk-parallel-item:first-child::after {align-self: flex-end;width: 50%;}#sk-container-id-2 div.sk-parallel-item:last-child::after {align-self: flex-start;width: 50%;}#sk-container-id-2 div.sk-parallel-item:only-child::after {width: 0;}#sk-container-id-2 div.sk-dashed-wrapped {border: 1px dashed gray;margin: 0 0.4em 0.5em 0.4em;box-sizing: border-box;padding-bottom: 0.4em;background-color: white;}#sk-container-id-2 div.sk-label label {font-family: monospace;font-weight: bold;display: inline-block;line-height: 1.2em;}#sk-container-id-2 div.sk-label-container {text-align: center;}#sk-container-id-2 div.sk-container {/* jupyter's `normalize.less` sets `[hidden] { display: none; }` but bootstrap.min.css set `[hidden] { display: none !important; }` so we also need the `!important` here to be able to override the default hidden behavior on the sphinx rendered scikit-learn.org. See: https://github.com/scikit-learn/scikit-learn/issues/21755 */display: inline-block !important;position: relative;}#sk-container-id-2 div.sk-text-repr-fallback {display: none;}</style><div id=\"sk-container-id-2\" class=\"sk-top-container\"><div class=\"sk-text-repr-fallback\"><pre>RandomForestClassifier(n_jobs=-1)</pre><b>In a Jupyter environment, please rerun this cell to show the HTML representation or trust the notebook. <br />On GitHub, the HTML representation is unable to render, please try loading this page with nbviewer.org.</b></div><div class=\"sk-container\" hidden><div class=\"sk-item\"><div class=\"sk-estimator sk-toggleable\"><input class=\"sk-toggleable__control sk-hidden--visually\" id=\"sk-estimator-id-2\" type=\"checkbox\" checked><label for=\"sk-estimator-id-2\" class=\"sk-toggleable__label sk-toggleable__label-arrow\">RandomForestClassifier</label><div class=\"sk-toggleable__content\"><pre>RandomForestClassifier(n_jobs=-1)</pre></div></div></div></div></div>"
      ],
      "text/plain": [
       "RandomForestClassifier(n_jobs=-1)"
      ]
     },
     "execution_count": 242,
     "metadata": {},
     "output_type": "execute_result"
    }
   ],
   "source": [
    "rf = RandomForestClassifier(n_jobs = -1)\n",
    "rf.fit(X_train, y_train)"
   ]
  },
  {
   "cell_type": "markdown",
   "metadata": {},
   "source": [
    "## prediction and accuracy!"
   ]
  },
  {
   "cell_type": "code",
   "execution_count": 243,
   "metadata": {},
   "outputs": [
    {
     "name": "stdout",
     "output_type": "stream",
     "text": [
      "Accuracy: 0.9438803382130796\n"
     ]
    }
   ],
   "source": [
    "y_pred = rf.predict(X_test)\n",
    "accuracy = accuracy_score(y_test, y_pred)\n",
    "\n",
    "print(f\"Accuracy: {accuracy}\")\n",
    "# print(f\"Accuracy: {f1_score(y_test, y_pred)}\")"
   ]
  },
  {
   "cell_type": "code",
   "execution_count": 244,
   "metadata": {},
   "outputs": [],
   "source": [
    "#with open('model_pkl', 'wb') as f:\n",
    " #   pickle.dump(rf, f)"
   ]
  },
  {
   "cell_type": "code",
   "execution_count": 245,
   "metadata": {},
   "outputs": [
    {
     "data": {
      "text/plain": [
       "['rf_jlib']"
      ]
     },
     "execution_count": 245,
     "metadata": {},
     "output_type": "execute_result"
    }
   ],
   "source": [
    "joblib.dump(rf, 'rf_jlib')"
   ]
  },
  {
   "cell_type": "code",
   "execution_count": 246,
   "metadata": {},
   "outputs": [],
   "source": [
    "acc_df['home_ownership'].unique()\n",
    "home_ownership_map = {'MORTGAGE' : 0, 'RENT' : 1, 'OWN' : 2, 'ANY' : 3, 'NONE' : 4, 'OTHER' : 5}"
   ]
  },
  {
   "cell_type": "code",
   "execution_count": 247,
   "metadata": {},
   "outputs": [
    {
     "name": "stdout",
     "output_type": "stream",
     "text": [
      "[ 0.  1.  2.  3.  4.  5.  6.  7.  8.  9. 10. 11. 12. 13.]\n"
     ]
    }
   ],
   "source": [
    "print(acc_df['purpose'].unique())\n",
    "purpose_map = {'debt_consolidation' : 0, 'small_business' : 1, 'home_improvement' : 2, 'major_purchase' : 3,\n",
    " 'credit_card' : 4, 'other' : 5, 'house' : 6, 'vacation' : 7, 'car' : 8, 'medical' : 9, 'moving' : 10,\n",
    " 'renewable_energy' : 11, 'wedding' : 12, 'educational' : 13}"
   ]
  },
  {
   "cell_type": "code",
   "execution_count": 248,
   "metadata": {},
   "outputs": [
    {
     "name": "stdout",
     "output_type": "stream",
     "text": [
      "Index(['loan_amnt', 'int_rate', 'home_ownership', 'annual_inc', 'purpose',\n",
      "       'dti', 'tot_cur_bal'],\n",
      "      dtype='object')\n"
     ]
    }
   ],
   "source": [
    "print(X.columns)"
   ]
  }
 ],
 "metadata": {
  "kernelspec": {
   "display_name": "Python 3",
   "language": "python",
   "name": "python3"
  },
  "language_info": {
   "codemirror_mode": {
    "name": "ipython",
    "version": 3
   },
   "file_extension": ".py",
   "mimetype": "text/x-python",
   "name": "python",
   "nbconvert_exporter": "python",
   "pygments_lexer": "ipython3",
   "version": "3.10.7"
  }
 },
 "nbformat": 4,
 "nbformat_minor": 2
}
